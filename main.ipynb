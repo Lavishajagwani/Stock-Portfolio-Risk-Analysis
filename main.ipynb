{
 "cells": [
  {
   "cell_type": "code",
   "execution_count": 5,
   "metadata": {},
   "outputs": [],
   "source": [
    "from scripts.fetch_data import fetch_data\n",
    "from scripts.preprocessing import clean_data, calculate_returns, visualize_data, print_summary\n",
    "from scripts.eda import load_data, analyze_returns,analyze_volatility, analyze_cumulative_returns\n",
    "import datetime\n",
    "import os"
   ]
  },
  {
   "cell_type": "code",
   "execution_count": null,
   "metadata": {},
   "outputs": [],
   "source": [
    "# Get user input for tickers and date range (assuming basic input handling)\n",
    "tickers = input(\"Enter comma-separated ticker symbols (e.g., AAPL,MSFT,GOOGL): \").split(\",\")\n",
    "start_date = input(\"Enter start date (YYYY-MM-DD): \")\n",
    "end_date = input(\"Enter end date (YYYY-MM-DD): \")\n",
    "\n",
    "# Download data\n",
    "data = fetch_data(tickers, start_date, end_date)\n",
    "\n",
    "# Check if data download was successful\n",
    "if data is not None:\n",
    "  # Clean data\n",
    "  data = clean_data(data)\n",
    "\n",
    "  # Calculate returns\n",
    "  returns = calculate_returns(data)\n",
    "\n",
    "  # Get current timestamp\n",
    "  now = datetime.datetime.now()\n",
    "  timestamp = now.strftime(\"%Y-%m-%d_%H-%M-%S\") \n",
    "\n",
    "  # Save raw data\n",
    "  folder_name = 'data'\n",
    "  if not os.path.exists(folder_name):\n",
    "    os.makedirs(folder_name)\n",
    "\n",
    "  data.to_csv(os.path.join(folder_name, f'raw_data-{timestamp}.csv'))\n",
    "\n",
    "  # Save processed data\n",
    "  data['Close'].to_csv(os.path.join(folder_name, f'historical_close_prices-{timestamp}.csv'))\n",
    "  returns.to_csv(os.path.join(folder_name, f'daily_returns-{timestamp}.csv'))\n",
    "\n",
    "  # Visualize and print summary\n",
    "  visualize_data(data, returns)\n",
    "\n",
    "else:\n",
    "  print(\"Failed to retrieve data. Please check ticker symbols and date range.\") "
   ]
  },
  {
   "cell_type": "code",
   "execution_count": null,
   "metadata": {},
   "outputs": [],
   "source": [
    "df = data['Close']\n",
    "print_summary(df, tickers, start_date, end_date)"
   ]
  },
  {
   "cell_type": "code",
   "execution_count": null,
   "metadata": {},
   "outputs": [],
   "source": [
    "# Get user input for file paths\n",
    "close_prices_file = input(\"Enter the path for the historical prices file (e.g., historical_prices.csv): \")\n",
    "returns_file = input(\"Enter the path for the daily returns file (e.g., daily_returns.csv): \")\n",
    "\n",
    "# Load price and return data\n",
    "close_prices_data = load_data(close_prices_file)\n",
    "returns_data = load_data(returns_file)\n",
    "\n",
    "if close_prices_data is not None and returns_data is not None:\n",
    "    # Summary statistics\n",
    "    print(\"Price Data Summary:\")\n",
    "    print(close_prices_data.describe())\n",
    "\n",
    "    print(\"\\nReturns Data Summary:\")\n",
    "    print(returns_data.describe())"
   ]
  },
  {
   "cell_type": "code",
   "execution_count": null,
   "metadata": {},
   "outputs": [],
   "source": [
    "analyze_returns(returns_data)"
   ]
  },
  {
   "cell_type": "code",
   "execution_count": null,
   "metadata": {},
   "outputs": [],
   "source": [
    "analyze_volatility(returns_data)"
   ]
  },
  {
   "cell_type": "code",
   "execution_count": null,
   "metadata": {},
   "outputs": [],
   "source": [
    "analyze_cumulative_returns(returns_data)"
   ]
  }
 ],
 "metadata": {
  "kernelspec": {
   "display_name": "Python 3",
   "language": "python",
   "name": "python3"
  },
  "language_info": {
   "codemirror_mode": {
    "name": "ipython",
    "version": 3
   },
   "file_extension": ".py",
   "mimetype": "text/x-python",
   "name": "python",
   "nbconvert_exporter": "python",
   "pygments_lexer": "ipython3",
   "version": "3.11.2"
  }
 },
 "nbformat": 4,
 "nbformat_minor": 2
}
