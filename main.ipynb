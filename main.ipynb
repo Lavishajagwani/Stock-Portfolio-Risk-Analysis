{
 "cells": [
  {
   "cell_type": "code",
   "execution_count": 1,
   "metadata": {},
   "outputs": [],
   "source": [
    "from scripts.fetch_data import fetch_data\n",
    "from scripts.preprocessing import clean_data, calculate_returns, visualize_data, print_summary\n",
    "from scripts.eda import load_data, analyze_returns,analyze_volatility, analyze_cumulative_returns\n",
    "from scripts.portfolio_analysis import calculate_var, calculate_cvar, calculate_drawdown, visualize_drawdown,visualize_var_cvar\n",
    "from scripts.portfolio_optimization import portfolio_performance, minimize_volatility, negative_sharpe_ratio, efficient_frontier, plot_efficient_frontier\n",
    "from scipy.optimize import minimize\n",
    "import pandas as pd\n",
    "import numpy as np\n",
    "import datetime\n",
    "import os"
   ]
  },
  {
   "cell_type": "code",
   "execution_count": null,
   "metadata": {},
   "outputs": [],
   "source": [
    "# Get user input for tickers and date range (assuming basic input handling)\n",
    "tickers = input(\"Enter comma-separated ticker symbols (e.g., AAPL,MSFT,GOOGL): \").split(\",\")\n",
    "start_date = input(\"Enter start date (YYYY-MM-DD): \")\n",
    "end_date = input(\"Enter end date (YYYY-MM-DD): \")\n",
    "\n",
    "# Download data\n",
    "data = fetch_data(tickers, start_date, end_date)\n",
    "\n",
    "# Check if data download was successful\n",
    "if data is not None:\n",
    "  # Clean data\n",
    "  data = clean_data(data)\n",
    "\n",
    "  # Calculate returns\n",
    "  returns = calculate_returns(data)\n",
    "\n",
    "  # Get current timestamp\n",
    "  now = datetime.datetime.now()\n",
    "  timestamp = now.strftime(\"%Y-%m-%d_%H-%M-%S\") \n",
    "\n",
    "  # Save raw data\n",
    "  folder_name = 'data'\n",
    "  if not os.path.exists(folder_name):\n",
    "    os.makedirs(folder_name)\n",
    "\n",
    "  data.to_csv(os.path.join(folder_name, f'raw_data-{timestamp}.csv'))\n",
    "\n",
    "  # Save processed data\n",
    "  data['Close'].to_csv(os.path.join(folder_name, f'historical_close_prices-{timestamp}.csv'))\n",
    "  returns.to_csv(os.path.join(folder_name, f'daily_returns-{timestamp}.csv'))\n",
    "\n",
    "  # Visualize and print summary\n",
    "  visualize_data(data, returns)\n",
    "\n",
    "else:\n",
    "  print(\"Failed to retrieve data. Please check ticker symbols and date range.\") "
   ]
  },
  {
   "cell_type": "code",
   "execution_count": null,
   "metadata": {},
   "outputs": [],
   "source": [
    "df = data['Close']\n",
    "print_summary(df, tickers, start_date, end_date)"
   ]
  },
  {
   "cell_type": "code",
   "execution_count": 2,
   "metadata": {},
   "outputs": [
    {
     "name": "stdout",
     "output_type": "stream",
     "text": [
      "Price Data Summary:\n",
      "             AAPL       GOOGL        NFLX\n",
      "count  253.000000  253.000000  253.000000\n",
      "mean    92.939054   73.682551  446.827233\n",
      "std     21.468006    8.726527   65.612631\n",
      "min     54.509758   52.516125  298.839996\n",
      "25%     75.045219   69.606171  381.049988\n",
      "50%     89.287987   73.688377  469.959991\n",
      "75%    112.991776   77.946930  495.989990\n",
      "max    133.662994   90.918907  556.549988\n",
      "\n",
      "Returns Data Summary:\n",
      "             AAPL       GOOGL        NFLX\n",
      "count  252.000000  252.000000  252.000000\n",
      "mean     0.002728    0.001276    0.002387\n",
      "std      0.029418    0.024242    0.029146\n",
      "min     -0.128647   -0.116342   -0.111389\n",
      "25%     -0.010434   -0.008225   -0.013407\n",
      "50%      0.001655    0.003275    0.001268\n",
      "75%      0.017074    0.013565    0.017654\n",
      "max      0.119808    0.092412    0.116087\n"
     ]
    }
   ],
   "source": [
    "# Get user input for file paths\n",
    "close_prices_file = input(\"Enter the path for the historical prices file (e.g., historical_prices.csv): \")\n",
    "returns_file = input(\"Enter the path for the daily returns file (e.g., daily_returns.csv): \")\n",
    "\n",
    "# Load price and return data\n",
    "close_prices_data = load_data(close_prices_file)\n",
    "returns_data = load_data(returns_file)\n",
    "\n",
    "if close_prices_data is not None and returns_data is not None:\n",
    "    # Summary statistics\n",
    "    print(\"Price Data Summary:\")\n",
    "    print(close_prices_data.describe())\n",
    "\n",
    "    print(\"\\nReturns Data Summary:\")\n",
    "    print(returns_data.describe())"
   ]
  },
  {
   "cell_type": "code",
   "execution_count": null,
   "metadata": {},
   "outputs": [],
   "source": [
    "analyze_returns(returns_data)"
   ]
  },
  {
   "cell_type": "code",
   "execution_count": null,
   "metadata": {},
   "outputs": [],
   "source": [
    "analyze_volatility(returns_data)"
   ]
  },
  {
   "cell_type": "code",
   "execution_count": null,
   "metadata": {},
   "outputs": [],
   "source": [
    "analyze_cumulative_returns(returns_data)"
   ]
  },
  {
   "cell_type": "code",
   "execution_count": 3,
   "metadata": {},
   "outputs": [],
   "source": [
    "risk_free_rate = float(input(\"Enter the annualized risk-free rate (e.g., 0.02 for 2%): \")) / 252\n",
    "confidence_level = float(input(\"Enter the confidence level (e.g., 0.95 for 95%): \"))\n",
    "\n",
    "returns = pd.read_csv(returns_file, index_col='Date', parse_dates=True)\n",
    "\n",
    "Var = calculate_var(returns, confidence_level)\n",
    "cVar = calculate_cvar(returns, confidence_level)\n",
    "# Sharpe_ratio = calculate_sharpe_ratio(returns, risk_free_rate)\n",
    "Drawdown = calculate_drawdown(returns)\n",
    "max_drawdown = Drawdown.min()"
   ]
  },
  {
   "cell_type": "code",
   "execution_count": null,
   "metadata": {},
   "outputs": [],
   "source": [
    "visualize_drawdown(Drawdown)"
   ]
  },
  {
   "cell_type": "code",
   "execution_count": null,
   "metadata": {},
   "outputs": [],
   "source": [
    "visualize_var_cvar(returns, Var, cVar, confidence_level)"
   ]
  },
  {
   "cell_type": "code",
   "execution_count": 4,
   "metadata": {},
   "outputs": [
    {
     "name": "stdout",
     "output_type": "stream",
     "text": [
      "\n",
      "Portfolio Performance with initial weights\n",
      "Expected Portfolio Return: 0.5367764154732437\n",
      "Portfolio Volatility: 0.3769693184734145\n",
      "Portfolio Sharpe Ratio: 1.4237154699149044\n"
     ]
    }
   ],
   "source": [
    "mean_returns = returns.mean()\n",
    "cov_matrix = returns.cov()\n",
    "num_assets = len(mean_returns)\n",
    "initial_weights = np.array([1.0 / num_assets] * num_assets)\n",
    "\n",
    "constraints = ({'type': 'eq', 'fun': lambda w: np.sum(w) - 1})  # Sum of weights = 1\n",
    "bounds = tuple((0, 1) for _ in range(num_assets))  # No short selling\n",
    "\n",
    "portfolio_return, portfolio_volatility, portfolio_sharpe_ratio = portfolio_performance(initial_weights, mean_returns, cov_matrix, risk_free_rate)\n",
    "\n",
    "print(\"\\nPortfolio Performance with initial weights\")\n",
    "print(\"Expected Portfolio Return:\", portfolio_return)\n",
    "print(\"Portfolio Volatility:\", portfolio_volatility)\n",
    "print(\"Portfolio Sharpe Ratio:\", portfolio_sharpe_ratio)"
   ]
  },
  {
   "cell_type": "code",
   "execution_count": 5,
   "metadata": {},
   "outputs": [
    {
     "name": "stdout",
     "output_type": "stream",
     "text": [
      "\n",
      "Optimal Weights for Max Sharpe Ratio Portfolio:\n",
      "[0.60700351 0.         0.39299649]\n",
      "\n",
      "Optimal Weights for Min Volatility Portfolio:\n",
      "[0.00680521 0.68307909 0.31011571]\n",
      "\n",
      "Portfolio Performance with Optimal Weights for Max Sharpe Ratio:\n",
      "Expected Portfolio Return: 0.6535972210484874\n",
      "Portfolio Volatility: 0.4134840189534719\n",
      "Portfolio Sharpe Ratio: 1.5805153911949874\n",
      "\n",
      "Portfolio Performance with Optimal Weights for Min Volatility:\n",
      "Expected Portfolio Return: 0.4108228123429676\n",
      "Portfolio Volatility: 0.3621266137464558\n",
      "Portfolio Sharpe Ratio: 1.134253688272649\n"
     ]
    }
   ],
   "source": [
    "# Step 4: Optimize Portfolio for Sharpe Ratio\n",
    "optimal_sharpe = minimize(\n",
    "    negative_sharpe_ratio,\n",
    "    x0=initial_weights,\n",
    "    args=(mean_returns, cov_matrix, risk_free_rate),\n",
    "    method='SLSQP',\n",
    "    bounds=bounds,\n",
    "    constraints=constraints\n",
    ")\n",
    "optimal_weights_sharpe = optimal_sharpe.x\n",
    "\n",
    "# Step 5: Optimize Portfolio for Minimum Volatility\n",
    "optimal_volatility = minimize(\n",
    "    minimize_volatility,\n",
    "    x0=initial_weights,\n",
    "    args=(mean_returns, cov_matrix, risk_free_rate),\n",
    "    method='SLSQP',\n",
    "    bounds=bounds,\n",
    "    constraints=constraints\n",
    ")\n",
    "optimal_weights_volatility = optimal_volatility.x\n",
    "\n",
    "print(\"\\nOptimal Weights for Max Sharpe Ratio Portfolio:\")\n",
    "print(optimal_weights_sharpe)\n",
    "print(\"\\nOptimal Weights for Min Volatility Portfolio:\")\n",
    "print(optimal_weights_volatility)\n",
    "\n",
    "# Step 6: Calculate Portfolio Performance with Optimal Weights\n",
    "portfolio_return_sharpe, portfolio_volatility_sharpe, portfolio_sharpe_ratio_sharpe = portfolio_performance(optimal_weights_sharpe, mean_returns, cov_matrix, risk_free_rate)\n",
    "portfolio_return_volatility, portfolio_volatility_volatility, portfolio_sharpe_ratio_volatility = portfolio_performance(optimal_weights_volatility, mean_returns, cov_matrix, risk_free_rate)\n",
    "\n",
    "print(\"\\nPortfolio Performance with Optimal Weights for Max Sharpe Ratio:\")\n",
    "print(\"Expected Portfolio Return:\", portfolio_return_sharpe)\n",
    "print(\"Portfolio Volatility:\", portfolio_volatility_sharpe)\n",
    "print(\"Portfolio Sharpe Ratio:\", portfolio_sharpe_ratio_sharpe)\n",
    "\n",
    "print(\"\\nPortfolio Performance with Optimal Weights for Min Volatility:\")\n",
    "print(\"Expected Portfolio Return:\", portfolio_return_volatility)\n",
    "print(\"Portfolio Volatility:\", portfolio_volatility_volatility)\n",
    "print(\"Portfolio Sharpe Ratio:\", portfolio_sharpe_ratio_volatility)"
   ]
  },
  {
   "cell_type": "code",
   "execution_count": 6,
   "metadata": {},
   "outputs": [
    {
     "data": {
      "image/png": "[encoded data removed]",
      "text/plain": [
       "<Figure size 1200x600 with 1 Axes>"
      ]
     },
     "metadata": {},
     "output_type": "display_data"
    }
   ],
   "source": [
    "frontier_returns, frontier_volatilities = efficient_frontier(mean_returns, cov_matrix, risk_free_rate)\n",
    "\n",
    "plot_efficient_frontier(mean_returns, cov_matrix, risk_free_rate, optimal_weights_sharpe, optimal_weights_volatility, frontier_returns, frontier_volatilities)"
   ]
  }
 ],
 "metadata": {
  "kernelspec": {
   "display_name": "Python 3",
   "language": "python",
   "name": "python3"
  },
  "language_info": {
   "codemirror_mode": {
    "name": "ipython",
    "version": 3
   },
   "file_extension": ".py",
   "mimetype": "text/x-python",
   "name": "python",
   "nbconvert_exporter": "python",
   "pygments_lexer": "ipython3",
   "version": "3.11.2"
  }
 },
 "nbformat": 4,
 "nbformat_minor": 2
}
